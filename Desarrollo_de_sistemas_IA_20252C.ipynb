{
  "cells": [
    {
      "cell_type": "markdown",
      "metadata": {
        "id": "VZbcaWGAR3cU"
      },
      "source": [
        "# **Desarrollo de sistemas IA 2025.2C**"
      ]
    },
    {
      "cell_type": "markdown",
      "metadata": {
        "id": "gjKmSazHcjwC"
      },
      "source": [
        "# MAURICIO RUIZ"
      ]
    },
    {
      "cell_type": "markdown",
      "metadata": {
        "id": "99Ypt8KTSMoT"
      },
      "source": [
        "# **Problema 1**\n",
        "\n",
        "Se tienen dos jarras de agua de capacidades X y Y litros.\n",
        "Se pueden realizar las siguientes acciones:\n",
        "\n",
        "*   Llenar una jarra completamente.\n",
        "*   Vaciar una jarra.\n",
        "*   Pasar agua de una jarra a otra hasta que una se vacíe o la otra se llene.\n",
        "\n",
        "El estado del sistema se representa como (a, b) donde a es el contenido de la jarra X y b el\n",
        "de la jarra Y.\n",
        "El estado inicial es (0, 0).\n",
        "\n",
        "**Objetivo:** Usando DFS, encontrar si es posible medir exactamente Z litros en alguna de las\n",
        "jarras y, en caso afirmativo, devolver la secuencia de movimientos.\n",
        "\n",
        "\n",
        "\n",
        "\n"
      ]
    },
    {
      "cell_type": "code",
      "execution_count": null,
      "metadata": {
        "colab": {
          "base_uri": "https://localhost:8080/"
        },
        "id": "NZwoDMYYSnGz",
        "outputId": "6e44a67c-b253-4f2e-a2c5-861eb6c311e4"
      },
      "outputs": [
        {
          "name": "stdout",
          "output_type": "stream",
          "text": [
            "Inicio de la exploración con jarras de 4 y 3 litros, objetivo: 2 litros\n",
            "\n",
            "Sacando de la pila: Estado=(0, 0) | Camino hasta ahora: []\n",
            "Estado (0, 0) marcado como visitado\n",
            "Generando nuevos estados:\n",
            "      - Acción 'Llenar X' lleva a estado (4, 0)\n",
            "Estado agregado a la pila\n",
            "      - Acción 'Llenar Y' lleva a estado (0, 3)\n",
            "Estado agregado a la pila\n",
            "      - Acción 'Vaciar X' lleva a estado (0, 0)\n",
            "Ya visitado, no se agrega\n",
            "      - Acción 'Vaciar Y' lleva a estado (0, 0)\n",
            "Ya visitado, no se agrega\n",
            "      - Acción 'Pasar X→Y' lleva a estado (0, 0)\n",
            "Ya visitado, no se agrega\n",
            "      - Acción 'Pasar Y→X' lleva a estado (0, 0)\n",
            "Ya visitado, no se agrega\n",
            "\n",
            "Sacando de la pila: Estado=(0, 3) | Camino hasta ahora: [(0, 0, 'Llenar Y')]\n",
            "Estado (0, 3) marcado como visitado\n",
            "Generando nuevos estados:\n",
            "      - Acción 'Llenar X' lleva a estado (4, 3)\n",
            "Estado agregado a la pila\n",
            "      - Acción 'Llenar Y' lleva a estado (0, 3)\n",
            "Ya visitado, no se agrega\n",
            "      - Acción 'Vaciar X' lleva a estado (0, 3)\n",
            "Ya visitado, no se agrega\n",
            "      - Acción 'Vaciar Y' lleva a estado (0, 0)\n",
            "Ya visitado, no se agrega\n",
            "      - Acción 'Pasar X→Y' lleva a estado (0, 3)\n",
            "Ya visitado, no se agrega\n",
            "      - Acción 'Pasar Y→X' lleva a estado (3, 0)\n",
            "Estado agregado a la pila\n",
            "\n",
            "Sacando de la pila: Estado=(3, 0) | Camino hasta ahora: [(0, 0, 'Llenar Y'), (0, 3, 'Pasar Y→X')]\n",
            "Estado (3, 0) marcado como visitado\n",
            "Generando nuevos estados:\n",
            "      - Acción 'Llenar X' lleva a estado (4, 0)\n",
            "Estado agregado a la pila\n",
            "      - Acción 'Llenar Y' lleva a estado (3, 3)\n",
            "Estado agregado a la pila\n",
            "      - Acción 'Vaciar X' lleva a estado (0, 0)\n",
            "Ya visitado, no se agrega\n",
            "      - Acción 'Vaciar Y' lleva a estado (3, 0)\n",
            "Ya visitado, no se agrega\n",
            "      - Acción 'Pasar X→Y' lleva a estado (0, 3)\n",
            "Ya visitado, no se agrega\n",
            "      - Acción 'Pasar Y→X' lleva a estado (3, 0)\n",
            "Ya visitado, no se agrega\n",
            "\n",
            "Sacando de la pila: Estado=(3, 3) | Camino hasta ahora: [(0, 0, 'Llenar Y'), (0, 3, 'Pasar Y→X'), (3, 0, 'Llenar Y')]\n",
            "Estado (3, 3) marcado como visitado\n",
            "Generando nuevos estados:\n",
            "      - Acción 'Llenar X' lleva a estado (4, 3)\n",
            "Estado agregado a la pila\n",
            "      - Acción 'Llenar Y' lleva a estado (3, 3)\n",
            "Ya visitado, no se agrega\n",
            "      - Acción 'Vaciar X' lleva a estado (0, 3)\n",
            "Ya visitado, no se agrega\n",
            "      - Acción 'Vaciar Y' lleva a estado (3, 0)\n",
            "Ya visitado, no se agrega\n",
            "      - Acción 'Pasar X→Y' lleva a estado (3, 3)\n",
            "Ya visitado, no se agrega\n",
            "      - Acción 'Pasar Y→X' lleva a estado (4, 2)\n",
            "Estado agregado a la pila\n",
            "\n",
            "Sacando de la pila: Estado=(4, 2) | Camino hasta ahora: [(0, 0, 'Llenar Y'), (0, 3, 'Pasar Y→X'), (3, 0, 'Llenar Y'), (3, 3, 'Pasar Y→X')]\n",
            "Estado (4, 2) marcado como visitado\n",
            "\n",
            "Objetivo alcanzado!\n",
            "\n",
            "Secuencia de estados y acciones hasta la solución:\n",
            "(0, 0, 'Llenar Y')\n",
            "(0, 3, 'Pasar Y→X')\n",
            "(3, 0, 'Llenar Y')\n",
            "(3, 3, 'Pasar Y→X')\n",
            "(4, 2)\n"
          ]
        }
      ],
      "source": [
        "def dfs_jarras_exploratoria(x, y, z):\n",
        "    # pila de estados a explorar (estado, camino hasta aquí)\n",
        "    stack = [((0, 0), [])]\n",
        "    visitados = set()\n",
        "\n",
        "    print(f\"Inicio de la exploración con jarras de {x} y {y} litros, objetivo: {z} litros\\n\")\n",
        "\n",
        "    while stack:\n",
        "        (a, b), camino = stack.pop()\n",
        "\n",
        "        print(f\"Sacando de la pila: Estado=({a}, {b}) | Camino hasta ahora: {camino}\")\n",
        "\n",
        "        # Si ya lo visitamos, seguimos\n",
        "        if (a, b) in visitados:\n",
        "            print(f\"Estado ({a}, {b}) ya visitado, se omite\\n\")\n",
        "            continue\n",
        "        visitados.add((a, b))\n",
        "        print(f\"Estado ({a}, {b}) marcado como visitado\")\n",
        "\n",
        "        # Objetivo cumplido\n",
        "        if a == z or b == z:\n",
        "            print(\"\\nObjetivo alcanzado!\")\n",
        "            return camino + [(a, b)]\n",
        "\n",
        "        # Generamos estados posibles\n",
        "        nuevos_estados = []\n",
        "\n",
        "        # 1. Llenar X\n",
        "        nuevos_estados.append(((x, b), \"Llenar X\"))\n",
        "        # 2. Llenar Y\n",
        "        nuevos_estados.append(((a, y), \"Llenar Y\"))\n",
        "        # 3. Vaciar X\n",
        "        nuevos_estados.append(((0, b), \"Vaciar X\"))\n",
        "        # 4. Vaciar Y\n",
        "        nuevos_estados.append(((a, 0), \"Vaciar Y\"))\n",
        "        # 5. Pasar X → Y\n",
        "        transfer = min(a, y - b)\n",
        "        nuevos_estados.append(((a - transfer, b + transfer), \"Pasar X→Y\"))\n",
        "        # 6. Pasar Y → X\n",
        "        transfer = min(b, x - a)\n",
        "        nuevos_estados.append(((a + transfer, b - transfer), \"Pasar Y→X\"))\n",
        "\n",
        "        print(\"Generando nuevos estados:\")\n",
        "        for (nuevo_a, nuevo_b), accion in nuevos_estados:\n",
        "            print(f\"      - Acción '{accion}' lleva a estado ({nuevo_a}, {nuevo_b})\")\n",
        "            if (nuevo_a, nuevo_b) not in visitados:\n",
        "                stack.append(((nuevo_a, nuevo_b), camino + [(a, b, accion)]))\n",
        "                print(f\"Estado agregado a la pila\")\n",
        "            else:\n",
        "                print(f\"Ya visitado, no se agrega\")\n",
        "        print()\n",
        "\n",
        "    print(\"No es posible medir esa cantidad de agua con estas jarras.\")\n",
        "    return None\n",
        "\n",
        "\n",
        "# Ejemplo de uso\n",
        "X, Y, Z = 4, 3, 2  # jarras de 4 y 3 litros, objetivo: 2 litros\n",
        "camino = dfs_jarras_exploratoria(X, Y, Z)\n",
        "\n",
        "if camino:\n",
        "    print(\"\\nSecuencia de estados y acciones hasta la solución:\")\n",
        "    for paso in camino:\n",
        "        print(paso)\n",
        "else:\n",
        "    print(\"No se encontró solución.\")\n"
      ]
    },
    {
      "cell_type": "markdown",
      "metadata": {
        "id": "ZCX4B9OpVe9g"
      },
      "source": [
        "El algoritmo empieza desde el estado inicial (0, 0) y, usando una pila, va generando nuevos estados aplicando las operaciones posibles: llenar, vaciar o transferir agua entre jarras. Cada vez que toma un estado de la pila, lo explora a fondo antes de volver atrás (característica de DFS). Se registra también el camino recorrido (secuencia de acciones) y se evita caer en bucles marcando estados ya visitados.\n",
        "*   El algoritmo muestra en consola cómo va sacando estados de la pila, generando transiciones y descartando los ya visitados.\n",
        "*   Se obtiene una secuencia concreta de movimientos que lleva a medir exactamente lo pedido, en este caso 2L.\n",
        "*   Se evidencia cómo DFS avanza profundo en una rama, y recién después vuelve atrás si no encuentra la solución.\n",
        "\n",
        "Se eligió DFS porque es más sencillo de implementar con recursión o pila para problemas de exploración de estados. No se pedía necesariamente el camino más corto, sino ver si existe un camino posible y mostrarlo. DFS cumple bien con eso. Permite visualizar claramente el proceso exploratorio, viendo cómo se va expandiendo una rama hasta encontrar la solución.\n"
      ]
    },
    {
      "cell_type": "markdown",
      "metadata": {
        "id": "rPxGEHNUY3VR"
      },
      "source": [
        "# **Verificación del algorimo**"
      ]
    },
    {
      "cell_type": "markdown",
      "metadata": {
        "id": "_CMtm0yuZgyp"
      },
      "source": [
        "1.  Caso base X=4, Y=3, Z=0\n",
        "*   Siempre es posible porque el estado inicial ya cumple la condición.\n",
        "*   **Esperado:** el algoritmo devuelve solución vacía o camino con solo (0,0).\n",
        "\n",
        "2.  Caso conocido X=4, Y=3, Z=2\n",
        "*   El clásico problema de las jarras.\n",
        "*   **Esperado:** debería encontrar una secuencia de acciones.\n",
        "\n",
        "3.  Capacidad igual al objetivo X=5, Y=3, Z=5\n",
        "*   Se puede resolver llenando directamente la jarra de 5.\n",
        "*   **Esperado:** solución rápida.\n",
        "\n",
        "4.  Imposible de medir X=2, Y=4, Z=3\n",
        "*   Como el máximo divisor común de 2 y 4 es 2, nunca se podrá obtener 3.\n",
        "*   **Esperado:** el algoritmo explora pero termina en \"no hay solución\".\n",
        "\n",
        "5.  Objetivo mayor a ambas capacidades X=4, Y=3, Z=6\n",
        "*   El objetivo excede a las capacidades de las jarras.\n",
        "*   **Esperado:** devuelve que no se encontró solución.\n",
        "\n",
        "**¿Cómo lo aplico al código?**\n",
        "Basta con cambiar los valores en la llamada:\n",
        "```\n",
        "# Ejemplo de uso\n",
        "X, Y, Z = 4, 3, 2  # jarras de 4 y 3 litros, objetivo: 2 litros\n",
        "camino = dfs_jarras_exploratoria(X, Y, Z)\n",
        "```\n",
        "\n"
      ]
    },
    {
      "cell_type": "markdown",
      "metadata": {
        "id": "lRyjQ9saZA9h"
      },
      "source": [
        "El código verifica si una de las jarras alcanza exactamente Z litros en cada estado explorado, asegurando que los estados que excedan la capacidad de la jarra no se consideren. Esto permite detectar correctamente cuándo no hay solución, como sería el caso de X=4, Y=3, Z=6, donde ninguna jarra puede contener 6 litros. Además, la verificación con un set de estados visitados evita ciclos y asegura que DFS no quede atrapado en bucles infinitos.\n",
        "\n",
        "En casos como X=5, Y=3, Z=5, el algoritmo devuelve un camino válido, pero no necesariamente el más óptimo en cantidad de pasos, porque DFS profundiza por ramas hasta llegar a la solución sin priorizar caminos cortos. Esto significa que aunque encuentre una secuencia que logra medir 5 litros, podría existir otra más corta que DFS no explore primero. Sin embargo, el enfoque garantiza que se encontrará un camino válido si existe, y proporciona un registro completo de las acciones realizadas, lo que permite seguir el proceso de resolución paso a paso."
      ]
    },
    {
      "cell_type": "markdown",
      "metadata": {
        "id": "dGiii31gSHNz"
      },
      "source": [
        "------------------------------------------------------------------------------------------------------------------------------------------------------------------------------------------------------------------------------------------------"
      ]
    },
    {
      "cell_type": "markdown",
      "metadata": {
        "id": "-tYf133iPHRP"
      },
      "source": [
        "# **Problema 2**\n",
        "\n",
        "Un caballero está atrapado en un calabozo representado por una matriz m x n donde cada celda puede contener:\n",
        "\n",
        "*   Un número negativo que representa daño(pérdida de salud),\n",
        "*   Un cero que representa una celda vacía, o\n",
        "*   Un número positivo que representa orbes mágicos que aumentan su salud.\n",
        "\n",
        "El caballero comienza en la esquina superior izquierda (posición (0,0)) y debe llegar hasta la esquina inferior derecha (m-1, n-1) para rescatar a la princesa.\n",
        "Sólo puede moverse hacia la derecha o hacia abajo en cada paso.\n",
        "Si en cualquier momento la salud del caballero cae a cero o menos, muere y el camino no es válido.\n",
        "\n",
        "**Objetivo:** Determinar la mínima salud inicial que debe tener el caballero para garantizar\n",
        "que puede llegar al final con vida.\n",
        "\n"
      ]
    },
    {
      "cell_type": "code",
      "execution_count": 1,
      "metadata": {
        "colab": {
          "base_uri": "https://localhost:8080/"
        },
        "id": "MWlyZz04TVRz",
        "outputId": "147ad126-5667-4ac4-bdb4-3a4baf70a6f4"
      },
      "outputs": [
        {
          "name": "stdout",
          "output_type": "stream",
          "text": [
            "Estado inicial de la matriz de salud:\n",
            "[0, 0, 0]\n",
            "[0, 0, 0]\n",
            "[0, 0, 0]\n",
            "\n",
            "Base (salida en (2,2)): 10\n",
            "Fila final (2,1): 13 (a la derecha 10 - valor -3)\n",
            "Fila final (2,0): 11 (a la derecha 13 - valor 2)\n",
            "Columna final (1,2): 1 (abajo 10 - valor 10)\n",
            "Columna final (0,2): 1 (abajo 1 - valor 7)\n",
            "Celda (1,1): 11 (min(salida abajo=13, derecha=1) - valor -10)\n",
            "Celda (1,0): 17 (min(salida abajo=11, derecha=11) - valor -6)\n",
            "Celda (0,1): 9 (min(salida abajo=11, derecha=1) - valor -8)\n",
            "Celda (0,0): 12 (min(salida abajo=17, derecha=9) - valor -3)\n",
            "\n",
            "Matriz final de salud mínima:\n",
            "[12, 9, 1]\n",
            "[17, 11, 1]\n",
            "[11, 13, 10]\n",
            "Salud mínima inicial: 12\n"
          ]
        }
      ],
      "source": [
        "def salud_minima_exploratoria(dungeon):\n",
        "    if not dungeon or not dungeon[0]:\n",
        "        return 1  # nada que recorrer\n",
        "\n",
        "    m, n = len(dungeon), len(dungeon[0])\n",
        "\n",
        "    salud = [[0] * n for _ in range(m)] # matriz de salud mínima\n",
        "\n",
        "    print(\"Estado inicial de la matriz de salud:\")\n",
        "    for fila in salud:\n",
        "        print(fila)\n",
        "    print()\n",
        "\n",
        "    # caso base: esquina inferior derecha\n",
        "    salud[m-1][n-1] = max(1, 1 - dungeon[m-1][n-1])\n",
        "    print(f\"Base (salida en ({m-1},{n-1})): {salud[m-1][n-1]}\")\n",
        "\n",
        "    # última fila (solo podemos movernos a la derecha)\n",
        "    for j in range(n-2, -1, -1):\n",
        "        salud[m-1][j] = max(1, salud[m-1][j+1] - dungeon[m-1][j])\n",
        "        print(f\"Fila final ({m-1},{j}): {salud[m-1][j]} (a la derecha {salud[m-1][j+1]} - valor {dungeon[m-1][j]})\")\n",
        "\n",
        "    # última columna (solo podemos movernos hacia abajo)\n",
        "    for i in range(m-2, -1, -1):\n",
        "        salud[i][n-1] = max(1, salud[i+1][n-1] - dungeon[i][n-1])\n",
        "        print(f\"Columna final ({i},{n-1}): {salud[i][n-1]} (abajo {salud[i+1][n-1]} - valor {dungeon[i][n-1]})\")\n",
        "\n",
        "    # resto de la matriz\n",
        "    for i in range(m-2, -1, -1):\n",
        "        for j in range(n-2, -1, -1):\n",
        "            min_salida = min(salud[i+1][j], salud[i][j+1])\n",
        "            salud[i][j] = max(1, min_salida - dungeon[i][j])\n",
        "            print(f\"Celda ({i},{j}): {salud[i][j]} (min(salida abajo={salud[i+1][j]}, derecha={salud[i][j+1]}) - valor {dungeon[i][j]})\")\n",
        "\n",
        "    print(\"\\nMatriz final de salud mínima:\")\n",
        "    for fila in salud:\n",
        "        print(fila)\n",
        "\n",
        "    return salud[0][0]\n",
        "\n",
        "\n",
        "dungeon = [\n",
        "    [-3, -8, 7],\n",
        "    [-6, -10, 10],\n",
        "    [2, -3, -9],\n",
        "]\n",
        "\n",
        "print(\"Salud mínima inicial:\", salud_minima_exploratoria(dungeon))\n"
      ]
    },
    {
      "cell_type": "markdown",
      "metadata": {
        "id": "AzUyupFWV3Ru"
      },
      "source": [
        "En este ejercicio use una búsqueda hacia atrás dónde:\n",
        "\n",
        "*   Cada celda es un estado con costo de entrada: cuánta salud se necesita al entrar a esa celda para poder llegar vivo hasta la princesa.\n",
        "*   Empezamos desde la meta (princesa) y calculamos desde atrás calculando cuánta salud hace falta para entrar en cada una y aún poder llegar a la meta.\n",
        "*   En cada paso se elige el camino menos exigente. La fórmula `max(1, min(salida) - dungeon[i][j])` asegura que nunca bajemos de 1 de salud.\n",
        "\n",
        "En sintesis: el código fue actualizando la “salud mínima” en cada casillero hasta que todo quedó estable, en vez de explorar caminos uno por uno.\n",
        "\n",
        "\n"
      ]
    },
    {
      "cell_type": "markdown",
      "metadata": {
        "id": "XRLXK2bwXfSl"
      },
      "source": [
        "Para verificar el correcto funcionamiento del código fui probando los siguientes casos:\n",
        "```\n",
        "[0, 5]\n",
        "[2, 3]\n",
        "```\n",
        "Todo positivo: No hay daño, alcanza arrancar con 1.\n",
        "\n",
        "\n",
        "```\n",
        "[-5, -5]\n",
        "[-5, -5]\n",
        "```\n",
        "Todo negativo: cada paso resta, da como resultado un número grande, en este caso 16."
      ]
    },
    {
      "cell_type": "markdown",
      "metadata": {
        "id": "n34QhnbiQ9an"
      },
      "source": [
        "En el problema de la salud mínima del caballero, la matriz final que obtenemos no representa el camino que efectivamente recorre el héroe. Cada valor de esa matriz indica la cantidad mínima de salud que se necesita al entrar en esa celda para poder llegar vivo a la princesa.\n",
        "\n",
        "El caballero comienza en la posición (0,0) y su objetivo es llegar a la esquina inferior derecha (m-1, n-1). Por eso, el único valor que realmente nos importa para responder al problema es el de la celda inicial, es decir, salud[0][0]. Esa cifra nos dice cuánta salud inicial debe tener el caballero para garantizar que, siguiendo al menos un camino posible, pueda rescatar a la princesa sin morir.\n",
        "\n",
        "La matriz completa funciona como un mapa de referencia: si el caballero entrara en cualquier otra celda, ese valor nos indicaría qué salud mínima necesitaría a partir de allí. Sin embargo, en la práctica él no recorre todas las casillas, sino que sigue solo un camino óptimo que respeta la condición de no morir en el trayecto.\n",
        "\n",
        "**A continuación tenemos el mismo código con la construcción del camino óptimo desde el inicio (0,0) hasta el final (m-1, n-1):**"
      ]
    },
    {
      "cell_type": "code",
      "execution_count": 2,
      "metadata": {
        "colab": {
          "base_uri": "https://localhost:8080/"
        },
        "id": "L-1979RaSH-w",
        "outputId": "66f2551d-8b06-4148-9f4e-20ac6750a162"
      },
      "outputs": [
        {
          "name": "stdout",
          "output_type": "stream",
          "text": [
            "Estado inicial de la matriz de salud:\n",
            "[0, 0, 0, 0]\n",
            "[0, 0, 0, 0]\n",
            "[0, 0, 0, 0]\n",
            "[0, 0, 0, 0]\n",
            "\n",
            "Base (salida en (3,3)): 1\n",
            "Fila final (3,2): 6 (a la derecha 1 - valor -5)\n",
            "Fila final (3,1): 6 (a la derecha 6 - valor 0)\n",
            "Fila final (3,0): 1 (a la derecha 6 - valor 6)\n",
            "Columna final (2,3): 1 (abajo 1 - valor 8)\n",
            "Columna final (1,3): 2 (abajo 1 - valor -1)\n",
            "Columna final (0,3): 1 (abajo 2 - valor 4)\n",
            "Celda (2,2): 3 (min(salida abajo=6, derecha=1) - valor -2)\n",
            "Celda (2,1): 1 (min(salida abajo=6, derecha=3) - valor 20)\n",
            "Celda (2,0): 1 (min(salida abajo=1, derecha=1) - valor 10)\n",
            "Celda (1,2): 1 (min(salida abajo=3, derecha=2) - valor 1)\n",
            "Celda (1,1): 11 (min(salida abajo=1, derecha=1) - valor -10)\n",
            "Celda (1,0): 8 (min(salida abajo=1, derecha=11) - valor -7)\n",
            "Celda (0,2): 1 (min(salida abajo=1, derecha=1) - valor 0)\n",
            "Celda (0,1): 4 (min(salida abajo=11, derecha=1) - valor -3)\n",
            "Celda (0,0): 6 (min(salida abajo=8, derecha=4) - valor -2)\n",
            "\n",
            "Matriz final de salud mínima:\n",
            "[6, 4, 1, 1]\n",
            "[8, 11, 1, 2]\n",
            "[1, 1, 3, 1]\n",
            "[1, 6, 6, 1]\n",
            "\n",
            "Salud mínima inicial: 6\n",
            "Camino óptimo: [(0, 0), (0, 1), (0, 2), (0, 3), (1, 3), (2, 3), (3, 3)]\n"
          ]
        }
      ],
      "source": [
        "def salud_minima_con_camino(dungeon):\n",
        "    if not dungeon or not dungeon[0]:\n",
        "        return 1, []  # nada que recorrer\n",
        "\n",
        "    m, n = len(dungeon), len(dungeon[0])\n",
        "\n",
        "    salud = [[0] * n for _ in range(m)]  # matriz de salud mínima\n",
        "\n",
        "    print(\"Estado inicial de la matriz de salud:\")\n",
        "    for fila in salud:\n",
        "        print(fila)\n",
        "    print()\n",
        "\n",
        "    # caso base: esquina inferior derecha\n",
        "    salud[m-1][n-1] = max(1, 1 - dungeon[m-1][n-1])\n",
        "    print(f\"Base (salida en ({m-1},{n-1})): {salud[m-1][n-1]}\")\n",
        "\n",
        "    # última fila (solo podemos movernos a la derecha)\n",
        "    for j in range(n-2, -1, -1):\n",
        "        salud[m-1][j] = max(1, salud[m-1][j+1] - dungeon[m-1][j])\n",
        "        print(f\"Fila final ({m-1},{j}): {salud[m-1][j]} (a la derecha {salud[m-1][j+1]} - valor {dungeon[m-1][j]})\")\n",
        "\n",
        "    # última columna (solo podemos movernos hacia abajo)\n",
        "    for i in range(m-2, -1, -1):\n",
        "        salud[i][n-1] = max(1, salud[i+1][n-1] - dungeon[i][n-1])\n",
        "        print(f\"Columna final ({i},{n-1}): {salud[i][n-1]} (abajo {salud[i+1][n-1]} - valor {dungeon[i][n-1]})\")\n",
        "\n",
        "    # resto de la matriz\n",
        "    for i in range(m-2, -1, -1):\n",
        "        for j in range(n-2, -1, -1):\n",
        "            min_salida = min(salud[i+1][j], salud[i][j+1])\n",
        "            salud[i][j] = max(1, min_salida - dungeon[i][j])\n",
        "            print(f\"Celda ({i},{j}): {salud[i][j]} (min(salida abajo={salud[i+1][j]}, derecha={salud[i][j+1]}) - valor {dungeon[i][j]})\")\n",
        "\n",
        "    print(\"\\nMatriz final de salud mínima:\")\n",
        "    for fila in salud:\n",
        "        print(fila)\n",
        "\n",
        "    # reconstrucción del camino óptimo\n",
        "    camino = [(0, 0)]\n",
        "    i, j = 0, 0\n",
        "    while (i, j) != (m-1, n-1):\n",
        "        if i == m-1:  # última fila → solo derecha\n",
        "            j += 1\n",
        "        elif j == n-1:  # última columna → solo abajo\n",
        "            i += 1\n",
        "        else:\n",
        "            # elegimos la dirección que requiera menos salud futura\n",
        "            if salud[i+1][j] < salud[i][j+1]:\n",
        "                i += 1\n",
        "            else:\n",
        "                j += 1\n",
        "        camino.append((i, j))\n",
        "\n",
        "    return salud[0][0], camino\n",
        "\n",
        "\n",
        "# Ejemplo\n",
        "dungeon = [\n",
        "    [-2, -3, 0, 4],\n",
        "    [-7, -10, 1, -1],\n",
        "    [10, 20, -2, 8],\n",
        "    [6, 0, -5, 20]\n",
        "]\n",
        "\n",
        "min_salud, camino = salud_minima_con_camino(dungeon)\n",
        "print(\"\\nSalud mínima inicial:\", min_salud)\n",
        "print(\"Camino óptimo:\", camino)\n"
      ]
    },
    {
      "cell_type": "markdown",
      "metadata": {
        "id": "NgSOMItnSSpD"
      },
      "source": [
        "------------------------------------------------------------------------------------------------------------------------------------------------------------------------------------------------------------------------------------------------"
      ]
    },
    {
      "cell_type": "markdown",
      "metadata": {
        "id": "UzytBxFBSWdt"
      },
      "source": [
        "# **Problema 3**\n",
        "\n",
        "Se cuenta con un conjunto de estaciones de servicio ubicadas en un plano cartesiano. Cada estación tiene una cantidad fija de gasolina que se repone al vehículo al llegar a ella\n",
        "\n",
        "Un vehículo debe viajar de una estación inicial a otra estación destino pasando por estaciones intermedias si es necesario. El vehículo consume una cantidad de gasolina específica para desplazarse entre estaciones conectadas directamente.\n",
        "\n",
        "**Se proporciona:**\n",
        "\n",
        "Un grafo donde cada nodo representa una estación de servicio con sus coordenadas (x, y) y la cantidad de gasolina que repone.\n",
        "\n",
        "Las aristas del grafo indican la conexión entre estaciones y el consumo de gasolina necesario para viajar entre ellas.\n",
        "\n",
        "**Objetivo:** Diseñar un algoritmo que determine si es posible llegar desde una estación inicial a una estación destino sin quedarse sin gasolina en el camino, considerando que el vehículo comienza con un tanque vacío y repone gasolina solo al llegar a una estación. Además, el algoritmo debe devolver una ruta válida en caso de existir.\n",
        "\n",
        "\n",
        "\n",
        "```\n",
        "stations = {'S1': {'coords': (0, 0), 'gas': 5},\n",
        "'S2': {'coords': (2, 3), 'gas': 3},\n",
        "'S3': {'coords': (5, 1), 'gas': 4},\n",
        "'S4': {'coords': (6, 4), 'gas': 2},\n",
        "'S5': {'coords': (8, 0), 'gas': 6}}\n",
        "costs = { 'S1': {'S2': 4, 'S3': 7},\n",
        "'S2': {'S1': 4, 'S3': 3, 'S4': 5},\n",
        "'S3': {'S1': 7, 'S2': 3, 'S4': 2, 'S5': 6},\n",
        "'S4': {'S2': 5, 'S3': 2, 'S5': 3},\n",
        "'S5': {'S3': 6, 'S4': 3}}\n",
        "```\n",
        "\n",
        "\n",
        "\n"
      ]
    },
    {
      "cell_type": "code",
      "execution_count": 4,
      "metadata": {
        "colab": {
          "base_uri": "https://localhost:8080/"
        },
        "id": "b7Nygz6dazOR",
        "outputId": "6171f038-71db-4aee-e9ea-33a1e5b66bd6"
      },
      "outputs": [
        {
          "name": "stdout",
          "output_type": "stream",
          "text": [
            "Explorando S4 con 2 de gas | Ruta: ['S4']\n",
            "Explorando S3 con 4 de gas | Ruta: ['S4', 'S3']\n",
            "Explorando S2 con 4 de gas | Ruta: ['S4', 'S3', 'S2']\n",
            "Explorando S4 con 4 de gas | Ruta: ['S4', 'S3', 'S4']\n",
            "Explorando S1 con 5 de gas | Ruta: ['S4', 'S3', 'S2', 'S1']\n",
            "Explorando S3 con 5 de gas | Ruta: ['S4', 'S3', 'S2', 'S3']\n",
            "Explorando S3 con 6 de gas | Ruta: ['S4', 'S3', 'S4', 'S3']\n",
            "Explorando S5 con 7 de gas | Ruta: ['S4', 'S3', 'S4', 'S5']\n",
            "¿Se puede llegar? True\n",
            "Ruta: ['S4', 'S3', 'S4', 'S5']\n"
          ]
        }
      ],
      "source": [
        "from collections import deque\n",
        "\n",
        "def ruta_con_bfs(stations, costs, start, goal):\n",
        "    # estado inicial: estación de arranque con la gasolina que recarga\n",
        "    start_state = (start, stations[start]['gas'])\n",
        "    queue = deque([(start_state, [start])])  # (estado, ruta recorrida)\n",
        "    visitados = set([start_state])\n",
        "\n",
        "    while queue:\n",
        "        (actual, gas), ruta = queue.popleft()\n",
        "\n",
        "        # 👀 Print para ver exploración\n",
        "        print(f\"Explorando {actual} con {gas} de gas | Ruta: {ruta}\")\n",
        "\n",
        "        # si llegamos al destino, devolvemos la ruta\n",
        "        if actual == goal:\n",
        "            return True, ruta\n",
        "\n",
        "        # exploramos estaciones vecinas\n",
        "        for vecino, costo in costs[actual].items():\n",
        "            if gas >= costo:  # tenemos suficiente nafta para llegar\n",
        "                nuevo_gas = gas - costo + stations[vecino]['gas']  # recargamos en el destino\n",
        "                nuevo_estado = (vecino, nuevo_gas)\n",
        "\n",
        "                if nuevo_estado not in visitados:\n",
        "                    visitados.add(nuevo_estado)\n",
        "                    queue.append((nuevo_estado, ruta + [vecino]))\n",
        "\n",
        "    # si agotamos la cola y no llegamos\n",
        "    return False, []\n",
        "\n",
        "\n",
        "# Datos del problema\n",
        "stations = {\n",
        "    'S1': {'coords': (0, 0), 'gas': 5},\n",
        "    'S2': {'coords': (2, 3), 'gas': 3},\n",
        "    'S3': {'coords': (5, 1), 'gas': 4},\n",
        "    'S4': {'coords': (6, 4), 'gas': 2},\n",
        "    'S5': {'coords': (8, 0), 'gas': 6}\n",
        "}\n",
        "costs = {\n",
        "    'S1': {'S2': 4, 'S3': 7},\n",
        "    'S2': {'S1': 4, 'S3': 3, 'S4': 5},\n",
        "    'S3': {'S1': 7, 'S2': 3, 'S4': 2, 'S5': 6},\n",
        "    'S4': {'S2': 5, 'S3': 2, 'S5': 3},\n",
        "    'S5': {'S3': 6, 'S4': 3}\n",
        "}\n",
        "\n",
        "# Ejemplo: de S1 a S5\n",
        "existe, ruta = ruta_con_bfs(stations, costs, 'S4', 'S5')\n",
        "print(\"¿Se puede llegar?\", existe)\n",
        "print(\"Ruta:\", ruta)\n"
      ]
    },
    {
      "cell_type": "markdown",
      "metadata": {
        "id": "rZw_bhoGfT-z"
      },
      "source": [
        "Para resolverlo usé el algoritmo de búsqueda en anchura (BFS), ya que permite explorar todas las rutas posibles paso a paso, garantizando que en ningún momento la cantidad de gasolina del vehículo caiga a cero o menos. Esto facilita el manejo de los estados combinando la estación actual con la gasolina disponible, lo que evita ciclos infinitos y asegura que se revisen solo los caminos factibles. Dado el tamaño reducido del grafo, compuesto por cinco estaciones, BFS resulta suficiente para encontrar rápidamente rutas válidas sin necesidad de técnicas más complejas.\n",
        "\n",
        "No use A* porque considero que este algoritmo es más conveniente en grafos grandes donde se requiere optimizar un costo usando una heurística. En este caso, el grafo es pequeño y BFS ya permite encontrar rutas válidas de manera eficiente y confiable, por lo que A* no aporta ventajas significativas.\n",
        "\n",
        "Con el código se logró verificar si es posible llegar de cualquier estación a otra sin quedarse sin combustible, obtener una ruta válida que cumpla con las restricciones de gasolina y evitar que el vehículo quede atrapado en ciclos infinitos gracias al control de estados. Además, el algoritmo permite observar paso a paso cómo se expande la búsqueda, lo que facilita comprender el funcionamiento de la exploración."
      ]
    },
    {
      "cell_type": "markdown",
      "metadata": {
        "id": "owSq4dZLgQBE"
      },
      "source": [
        "Hay algunos ejemplos de rutas imposibles como:\n",
        "\n",
        "1.   S4 → S5 (S4→S5 consume 3, pero S4 solo da 2 de gas → no alcanza.)\n",
        "2.   S2 → S4 (S2→S4 consume 5, S2 da 3 de gas → gas=3-5=-2)\n",
        "\n",
        "**¿Cómo resuelve esto el algoritmo?**\n",
        "\n",
        "1.   En ese caso el código vuelve hacia atrás (S3) para luego emprender viaje hacia S5 (S4, S3, S4, S5)\n",
        "2.   En este caso resulve tomando un camino más largo pero que logra el objetivo (S2, S3, S4)"
      ]
    },
    {
      "cell_type": "markdown",
      "metadata": {
        "id": "ycAFJeJShqCV"
      },
      "source": [
        "------------------------------------------------------------------------------------------------------------------------------------------------------------------------------------------------------------------------------------------------"
      ]
    },
    {
      "cell_type": "markdown",
      "metadata": {
        "id": "fsDuM6iLhrP0"
      },
      "source": [
        "# **Problema 4**\n",
        "\n",
        "Se tiene una red de transporte representada como un grafo no dirigido.\n",
        "\n",
        "*   Cada nodo representa un almacén\n",
        "*   Cada arista representa una ruta directa entre dos almacenes, con un valor entero que indica el peso máximo permitido para los vehículos en esa ruta\n",
        "\n",
        "Un camión de carga debe transportar un paquete desde un almacén origen hasta un\n",
        "almacén destino. El camión tiene un peso fijo W (que incluye el paquete). El camión sólo puede pasar por rutas en las que el límite de peso sea mayor o igual a W.\n",
        "\n",
        "**Objetivo:** Usando búsqueda por anchura o profundidad, determinar si existe un camino válido desde el almacén origen hasta el almacén destino que respete las restricciones de peso. En caso afirmativo, devolver una ruta posible.\n",
        "\n"
      ]
    },
    {
      "cell_type": "markdown",
      "metadata": {
        "id": "JO2mv-iHcHpj"
      },
      "source": [
        "# **Código usando búsqueda por anchura (BFS)**"
      ]
    },
    {
      "cell_type": "code",
      "execution_count": null,
      "metadata": {
        "colab": {
          "base_uri": "https://localhost:8080/"
        },
        "id": "CnJpm0NicbZz",
        "outputId": "605e0329-28f5-4095-9701-5c4252808f9b"
      },
      "outputs": [
        {
          "name": "stdout",
          "output_type": "stream",
          "text": [
            "Paso 1: procesando A, cola actual = []\n",
            "  -> Se puede ir de A a B (límite 10 >= 7)\n",
            "    Encolamos B, cola ahora = ['B']\n",
            "Paso 2: procesando B, cola actual = []\n",
            "  -> Se puede ir de B a D (límite 8 >= 7)\n",
            "    Encolamos D, cola ahora = ['D']\n",
            "Paso 3: procesando D, cola actual = []\n",
            "  -> Se puede ir de D a E (límite 7 >= 7)\n",
            "Destino encontrado\n",
            "Resultado final: True ['A', 'B', 'D', 'E']\n"
          ]
        }
      ],
      "source": [
        "from collections import deque\n",
        "\n",
        "def camino_valido_bfs(graph, origen, destino, W):\n",
        "    \"\"\"\n",
        "    graph: dict de dicts, graph[u][v] = limite_maximo (enteros)\n",
        "    origen, destino: nodos (claves del diccionario)\n",
        "    W: peso del camión (entero)\n",
        "    Devuelve: (True, ruta_lista) si existe ruta; (False, []) si no.\n",
        "    \"\"\"\n",
        "    if origen not in graph or destino not in graph:\n",
        "        return False, []\n",
        "\n",
        "    # caso dónde ya estás en el mismo almacén\n",
        "    if origen == destino:\n",
        "        return True, [origen]\n",
        "\n",
        "    queue = deque([origen])\n",
        "    visited = set([origen])\n",
        "    parent = {origen: None}  # para reconstruir ruta\n",
        "\n",
        "    paso = 0\n",
        "    while queue:\n",
        "        u = queue.popleft()\n",
        "        paso += 1\n",
        "        print(f\"Paso {paso}: procesando {u}, cola actual = {list(queue)}\")\n",
        "\n",
        "        # explorar vecinos dónde los límites permitan W\n",
        "        for v, limite in graph[u].items():\n",
        "            if limite >= W and v not in visited:\n",
        "                print(f\"  -> Se puede ir de {u} a {v} (límite {limite} >= {W})\")\n",
        "                visited.add(v)\n",
        "                parent[v] = u\n",
        "                if v == destino:\n",
        "                    # reconstruir ruta\n",
        "                    ruta = []\n",
        "                    cur = v\n",
        "                    while cur is not None:\n",
        "                        ruta.append(cur)\n",
        "                        cur = parent[cur]\n",
        "                    ruta.reverse()\n",
        "                    print(\"Destino encontrado\")\n",
        "                    return True, ruta\n",
        "                queue.append(v)\n",
        "                print(f\"    Encolamos {v}, cola ahora = {list(queue)}\")\n",
        "\n",
        "    print(\"No existe un camino válido\")\n",
        "    return False, []\n",
        "\n",
        "\n",
        "# grafo no dirigido (representado como dict de dicts)\n",
        "grafo = {\n",
        "    'A': {'B': 10, 'C': 5},\n",
        "    'B': {'A': 10, 'D': 8},\n",
        "    'C': {'A': 5, 'D': 4},\n",
        "    'D': {'B': 8, 'C': 4, 'E': 7},\n",
        "    'E': {'D': 7}\n",
        "}\n",
        "\n",
        "# comprobar ruta con camión de peso W\n",
        "W = 7\n",
        "ok, ruta = camino_valido_bfs(grafo, 'A', 'E', W)\n",
        "print(\"Resultado final:\", ok, ruta)  # True, ['A','B','D','E']\n",
        "\n"
      ]
    },
    {
      "cell_type": "markdown",
      "metadata": {
        "id": "l90s0Fg5eHHc"
      },
      "source": [
        "El algoritmo recorre el grafo en anchura, explorando primero todos los vecinos inmediatos del nodo de origen antes de avanzar a niveles más profundos. En cada paso, el algoritmo guarda las rutas en una cola y descarta aquellas que no cumplen con el límite de peso. Al encontrar el destino, devuelve la ruta más corta en cantidad de aristas que respeta la restricción de peso.\n",
        "\n",
        "**Ventajas:**\n",
        "\n",
        "*   Siempre garantiza la ruta más corta en términos de cantidad de nodos o pasos.\n",
        "*   Permite explorar de forma ordenada, por niveles, sin quedarse atrapado en ramas profundas.\n",
        "*   Es útil cuando el grafo es pequeño o cuando lo importante es la ruta más corta posible.\n",
        "\n",
        "**Desventajas:**\n",
        "\n",
        "*   Puede consumir más memoria porque guarda en la cola todas las rutas parciales de cada nivel.\n",
        "*   En grafos muy grandes, se vuelve menos eficiente que otros métodos más dirigidos como A*.\n",
        "\n",
        "\n",
        "\n",
        "\n",
        "\n"
      ]
    },
    {
      "cell_type": "markdown",
      "metadata": {
        "id": "yIzLNyZ9cxPT"
      },
      "source": [
        "# **Código usando búsqueda por profundidad (DFS)**"
      ]
    },
    {
      "cell_type": "code",
      "execution_count": null,
      "metadata": {
        "colab": {
          "base_uri": "https://localhost:8080/"
        },
        "id": "auQl4ckjdbCM",
        "outputId": "c437aceb-4f79-4d5f-fcd2-0e53d45152c8"
      },
      "outputs": [
        {
          "name": "stdout",
          "output_type": "stream",
          "text": [
            "Visitando nodo: A, camino actual: ['A']\n",
            "  Explorando vecino B con límite 10\n",
            "    Avanzando hacia B\n",
            "Visitando nodo: B, camino actual: ['A', 'B']\n",
            "  Explorando vecino A con límite 10\n",
            "    Vecino A ya visitado, se salta.\n",
            "  Explorando vecino D con límite 8\n",
            "    Avanzando hacia D\n",
            "Visitando nodo: D, camino actual: ['A', 'B', 'D']\n",
            "  Explorando vecino B con límite 8\n",
            "    Vecino B ya visitado, se salta.\n",
            "  Explorando vecino C con límite 4\n",
            "    El límite 4 es menor que 7, se descarta.\n",
            "  Explorando vecino E con límite 7\n",
            "    Avanzando hacia E\n",
            "Visitando nodo: E, camino actual: ['A', 'B', 'D', 'E']\n",
            "Destino E encontrado con camino: ['A', 'B', 'D', 'E']\n",
            "\n",
            "Resultado final: True ['A', 'B', 'D', 'E']\n"
          ]
        }
      ],
      "source": [
        "def camino_valido_dfs(graph, origen, destino, W):\n",
        "    \"\"\"\n",
        "    graph: dict de dicts, graph[u][v] = limite_maximo (enteros)\n",
        "    origen, destino: nodos (claves del diccionario)\n",
        "    W: peso del camión (entero)\n",
        "    Devuelve: (True, ruta_lista) si existe ruta; (False, []) si no.\n",
        "    \"\"\"\n",
        "\n",
        "    if origen not in graph or destino not in graph:\n",
        "        print(f\"El origen '{origen}' o el destino '{destino}' no existen en el grafo.\")\n",
        "        return False, []\n",
        "\n",
        "    if origen == destino:\n",
        "        print(f\"El origen y el destino son el mismo: {origen}\")\n",
        "        return True, [origen]\n",
        "\n",
        "    visited = set()\n",
        "\n",
        "    def dfs(u, path):\n",
        "        print(f\"Visitando nodo: {u}, camino actual: {path}\")\n",
        "\n",
        "        if u == destino:\n",
        "            print(f\"Destino {destino} encontrado con camino: {path}\")\n",
        "            return True, path\n",
        "\n",
        "        visited.add(u)\n",
        "\n",
        "        for v, limite in graph[u].items():\n",
        "            print(f\"  Explorando vecino {v} con límite {limite}\")\n",
        "\n",
        "            if v in visited:\n",
        "                print(f\"    Vecino {v} ya visitado, se salta.\")\n",
        "                continue\n",
        "            if limite < W:\n",
        "                print(f\"    El límite {limite} es menor que {W}, se descarta.\")\n",
        "                continue\n",
        "\n",
        "            print(f\"    Avanzando hacia {v}\")\n",
        "            found, ruta = dfs(v, path + [v])\n",
        "            if found:\n",
        "                return True, ruta\n",
        "            else:\n",
        "                print(f\"    Backtracking desde {v} a {u}\")\n",
        "\n",
        "        return False, []\n",
        "\n",
        "    return dfs(origen, [origen])\n",
        "\n",
        "\n",
        "# Ejemplo de uso (grafo no dirigido representado como dict de dicts)\n",
        "grafo = {\n",
        "    'A': {'B': 10, 'C': 5},\n",
        "    'B': {'A': 10, 'D': 8},\n",
        "    'C': {'A': 5, 'D': 4},\n",
        "    'D': {'B': 8, 'C': 4, 'E': 7},\n",
        "    'E': {'D': 7}\n",
        "}\n",
        "\n",
        "W = 7\n",
        "ok, ruta = camino_valido_dfs(grafo, 'A', 'E', W)\n",
        "print(\"\\nResultado final:\", ok, ruta)\n"
      ]
    },
    {
      "cell_type": "markdown",
      "metadata": {
        "id": "U4Gux00setYV"
      },
      "source": [
        "El algoritmo recorre el grafo en profundidad, avanzando lo máximo posible por una rama antes de retroceder (backtracking) y probar otra alternativa. En cada paso se validan los límites de peso y se evita visitar nodos repetidos. Si encuentra el destino, devuelve la ruta, que puede no ser la más corta pero sí válida.\n",
        "\n",
        "**Ventajas:**\n",
        "\n",
        "*   Puede encontrar soluciones rápidamente si el destino está en una rama profunda.\n",
        "*   Es más simple de implementar y puede adaptarse fácilmente a búsquedas recursivas.\n",
        "*   Consume menos memoria que BFS, ya que no guarda todas las rutas de cada nivel, solo la rama actual.\n",
        "\n",
        "**Desventajas:**\n",
        "\n",
        "*   No garantiza encontrar la ruta más corta, solo encuentra alguna ruta válida.\n",
        "*   Puede tardar más si se mete en ramas largas o sin salida antes de dar con la correcta.\n",
        "*   En grafos grandes y con muchas ramas, puede ser menos predecible en cuanto al rendimiento.\n",
        "\n",
        "\n",
        "\n",
        "\n",
        "\n",
        "\n"
      ]
    },
    {
      "cell_type": "markdown",
      "metadata": {
        "id": "94LapmmAfaxN"
      },
      "source": [
        "# **Verificación de los algoritmos**\n",
        "\n",
        "Para comprobar el correcto funcionamiento de los algoritmos de búsqueda (BFS y DFS), realize diferentes pruebas con el mismo grafo de ejemplo. Los casos cubren las siguientes situaciones: un camino directo con límite suficiente, un camino directo con límite insuficiente, la existencia de múltiples rutas donde solo algunas cumplen con el límite de peso, la situación de que el origen sea igual al destino y el caso de nodos inexistentes."
      ]
    },
    {
      "cell_type": "code",
      "execution_count": null,
      "metadata": {
        "id": "HpnQhDXmgfJ-"
      },
      "outputs": [],
      "source": [
        "grafo = {\n",
        "    'A': {'B': 10, 'C': 5},\n",
        "    'B': {'A': 10, 'D': 8},\n",
        "    'C': {'A': 5, 'D': 4},\n",
        "    'D': {'B': 8, 'C': 4, 'E': 7},\n",
        "    'E': {'D': 7}\n",
        "}\n",
        "\n",
        "W = 7\n",
        "\n",
        "# 1. Camino directo con límite suficiente (A-B)\n",
        "print(\"Caso 1 - Camino directo suficiente:\")\n",
        "print(\"BFS:\", camino_valido_bfs(grafo, 'A', 'B', W))\n",
        "print(\"DFS:\", camino_valido_dfs(grafo, 'A', 'B', W))\n",
        "print()\n",
        "\n",
        "# 2. Camino directo con límite insuficiente (A-C con límite 5 < W=7)\n",
        "print(\"Caso 2 - Camino directo insuficiente:\")\n",
        "print(\"BFS:\", camino_valido_bfs(grafo, 'A', 'C', W))\n",
        "print(\"DFS:\", camino_valido_dfs(grafo, 'A', 'C', W))\n",
        "print()\n",
        "\n",
        "# 3. Múltiples caminos, solo algunos válidos (A → E)\n",
        "print(\"Caso 3 - Varias rutas posibles:\")\n",
        "print(\"BFS:\", camino_valido_bfs(grafo, 'A', 'E', W))\n",
        "print(\"DFS:\", camino_valido_dfs(grafo, 'A', 'E', W))\n",
        "print()\n",
        "\n",
        "# 4. Caso (origen == destino)\n",
        "print(\"Caso 4 - Origen igual a destino:\")\n",
        "print(\"BFS:\", camino_valido_bfs(grafo, 'A', 'A', W))\n",
        "print(\"DFS:\", camino_valido_dfs(grafo, 'A', 'A', W))\n",
        "print()\n",
        "\n",
        "# 5. Nodos inexistentes\n",
        "print(\"Caso 5 - Nodos inexistentes:\")\n",
        "print(\"BFS:\", camino_valido_bfs(grafo, 'X', 'E', W))\n",
        "print(\"DFS:\", camino_valido_dfs(grafo, 'X', 'E', W))\n"
      ]
    }
  ],
  "metadata": {
    "colab": {
      "provenance": []
    },
    "kernelspec": {
      "display_name": "Python 3",
      "name": "python3"
    },
    "language_info": {
      "codemirror_mode": {
        "name": "ipython",
        "version": 3
      },
      "file_extension": ".py",
      "mimetype": "text/x-python",
      "name": "python",
      "nbconvert_exporter": "python",
      "pygments_lexer": "ipython3",
      "version": "3.13.2"
    }
  },
  "nbformat": 4,
  "nbformat_minor": 0
}
